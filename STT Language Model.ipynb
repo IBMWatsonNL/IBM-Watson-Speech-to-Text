{
 "cells": [
  {
   "attachments": {
    "Greenshot%202020-05-12%2013.04.54.png": {
     "image/png": "[encoded data removed]"
    }
   },
   "cell_type": "markdown",
   "metadata": {},
   "source": [
    "![Greenshot%202020-05-12%2013.04.54.png](attachment:Greenshot%202020-05-12%2013.04.54.png)"
   ]
  },
  {
   "cell_type": "markdown",
   "metadata": {},
   "source": [
    "# Getting started with Speech to Text\n",
    "\n",
    "The IBM® Speech to Text service provides APIs that use IBM's speech-recognition capabilities to produce transcripts of spoken audio. The service can transcribe speech from various languages and audio formats. In addition to basic transcription, the service can produce detailed information about many different aspects of the audio. For most languages, the service supports two sampling rates, broadband and narrowband. It returns all JSON response content in the UTF-8 character set.  \n",
    "\n",
    "This notebook explains how to develop a custom-model for your chosen language\n",
    "\n",
    "IBM documentation for Watson Speech to Text https://cloud.ibm.com/docs/speech-to-text?topic=speech-to-text-gettingStarted\n",
    "\n",
    "IBM API documentation for Watson Speech to Text https://cloud.ibm.com/apidocs/speech-to-text?code=python#introduction\n"
   ]
  },
  {
   "cell_type": "markdown",
   "metadata": {},
   "source": [
    "Thanks to @kchallapalli for some of the code in the notebook"
   ]
  },
  {
   "attachments": {},
   "cell_type": "markdown",
   "metadata": {},
   "source": [
    "## Before you begin\n",
    "\n",
    "a) Create an instance of the service:\n",
    "<br>\n",
    "b) Go to the Speech to Text page in the IBM Cloud Catalog. select Watson Speech to Text (STT)\n",
    "<br>\n",
    "c) Select your Region + Plan and Click Create.\n",
    "<br>\n",
    "d) Copy the credentials to authenticate to your service instance:\n",
    "<br>\n",
    "e) From the IBM Cloud Resource list, click on your Speech to Text service instance to go to the Speech to Text service dashboard page.\n",
    "\n"
   ]
  },
  {
   "cell_type": "markdown",
   "metadata": {},
   "source": [
    "## 1. Setup\n",
    "\n",
    "##### To prepare your environment, you need to install some packages and enter credentials for the Watson services."
   ]
  },
  {
   "cell_type": "code",
   "execution_count": null,
   "metadata": {},
   "outputs": [],
   "source": [
    "!pip install jiwer\n",
    "!pip install --upgrade \"ibm-watson>=4.4.0\"\n",
    "!pip install pandas"
   ]
  },
  {
   "cell_type": "markdown",
   "metadata": {},
   "source": [
    "### 1.1 Import Packages and Libraries"
   ]
  },
  {
   "cell_type": "code",
   "execution_count": null,
   "metadata": {},
   "outputs": [],
   "source": [
    "from ibm_watson import SpeechToTextV1\n",
    "from jiwer import wer\n",
    "import pandas as pd\n",
    "import os\n",
    "from os.path import join, dirname, abspath\n",
    "import time\n",
    "import json\n",
    "import io\n",
    "import sys\n",
    "import csv\n",
    "\n"
   ]
  },
  {
   "cell_type": "markdown",
   "metadata": {},
   "source": [
    "### 1.2 Creating a local path for your notebook\n"
   ]
  },
  {
   "cell_type": "code",
   "execution_count": null,
   "metadata": {},
   "outputs": [],
   "source": [
    "notebook_path = os.path.dirname(os.path.abspath(\"STT Language model.ipynb\"))"
   ]
  },
  {
   "cell_type": "markdown",
   "metadata": {},
   "source": [
    "### 1.3 Add Service Credentials From IBM Cloud for Watson Services"
   ]
  },
  {
   "cell_type": "markdown",
   "metadata": {},
   "source": [
    "#### Edit the following cell to provide your credentials for Watson STT\n",
    "\n",
    "Insert API keys and URLs in the following cell.\n",
    "Run the cell.\n"
   ]
  },
  {
   "cell_type": "code",
   "execution_count": null,
   "metadata": {},
   "outputs": [],
   "source": [
    "url = \"<insert your url information>\"\n",
    "api_key = \"<insert your apikey information>\"\n",
    "from ibm_cloud_sdk_core.authenticators import IAMAuthenticator\n",
    "authenticator = IAMAuthenticator(api_key)\n",
    "speech_to_text = SpeechToTextV1(\n",
    "authenticator=authenticator\n",
    "    )\n",
    "speech_to_text.set_service_url(url)"
   ]
  },
  {
   "cell_type": "markdown",
   "metadata": {},
   "source": [
    "## 2. Create a new language model in Watson STT\n",
    "\n",
    "### For most languages, the service supports both broadband and narrowband models:\n",
    "\n",
    "Broadband models are for audio that is sampled at greater than or equal to 16 kHz. Use broadband models for responsive, real-time applications, for example, for live-speech applications.\n",
    "<br>\n",
    "\n",
    "Narrowband models are for audio that is sampled at 8 kHz. Use narrowband models for offline decoding of telephone speech, which is the typical use for this sampling rate.\n"
   ]
  },
  {
   "cell_type": "markdown",
   "metadata": {},
   "source": [
    "### 2.1 List the speech model available within the Watson STT service"
   ]
  },
  {
   "cell_type": "code",
   "execution_count": null,
   "metadata": {},
   "outputs": [],
   "source": [
    "speech_models = speech_to_text.list_models().get_result()\n",
    "print(json.dumps(speech_models, indent=2))"
   ]
  },
  {
   "cell_type": "markdown",
   "metadata": {},
   "source": [
    "### 2.2 List the speech custom language models available within your Watson STT service\n",
    "\n",
    "You create a custom language model and add corpora and words specific to your domain. Once you train the custom language model on your enhanced vocabulary, you can use it for customized speech recognition. The service can typically train any custom model in a matter of minutes. The level of effort that it takes to create a model depends on the data that you have available for the model."
   ]
  },
  {
   "cell_type": "code",
   "execution_count": null,
   "metadata": {},
   "outputs": [],
   "source": [
    "language_models = speech_to_text.list_language_models().get_result()\n",
    "print(json.dumps(language_models, indent=2))"
   ]
  },
  {
   "cell_type": "markdown",
   "metadata": {},
   "source": [
    "### 2.2 Create a speech custom language models available within your Watson STT service \n",
    "\n",
    "- add a name for the language model in the cell below\n",
    "- add the language and type of base model in the cell below example : ***nl-NL_NarrowbandModel / nl-NL_BroadbandModel***\n",
    "- provide a description of the model"
   ]
  },
  {
   "cell_type": "code",
   "execution_count": null,
   "metadata": {},
   "outputs": [],
   "source": [
    "language_model = speech_to_text.create_language_model(\n",
    "\t\t'<add your name of the model>',\n",
    "\t\t'<add your language model>',\n",
    "\t\tdescription = '<provide a description>'\n",
    "\t).get_result()\n",
    "print(json.dumps(language_model, indent=2))"
   ]
  },
  {
   "cell_type": "markdown",
   "metadata": {},
   "source": [
    "### 2.3 Add the \"customization_id\" from the output above to the cell below."
   ]
  },
  {
   "cell_type": "code",
   "execution_count": null,
   "metadata": {},
   "outputs": [],
   "source": [
    "customization_id = \"<customizstion_id>\""
   ]
  },
  {
   "cell_type": "markdown",
   "metadata": {},
   "source": [
    "## 3. Upload your \"corpora into Watson STT\n",
    "\n",
    "Corpora: The recommended means of populating a custom language model with words is to add one or more corpora to the model. When you add a corpus, the service analyzes the file and automatically adds any new words that it finds to the custom model. Adding a corpus to a custom model allows the service to extract domain-specific words in context, which helps ensure better transcription results. For more information, see Working with Corpora. https://cloud.ibm.com/docs/speech-to-text?topic=speech-to-text-corporaWords#workingCorpora\n"
   ]
  },
  {
   "cell_type": "markdown",
   "metadata": {},
   "source": [
    "### 3.1 List the \"corpora\" within your language model\n"
   ]
  },
  {
   "cell_type": "code",
   "execution_count": null,
   "metadata": {},
   "outputs": [],
   "source": [
    "corpora = speech_to_text.list_corpora(customization_id).get_result()\n",
    "print(json.dumps(corpora, indent=2))"
   ]
  },
  {
   "cell_type": "markdown",
   "metadata": {},
   "source": [
    "### 3.2 Provide a name for the corpus in the cell below"
   ]
  },
  {
   "cell_type": "code",
   "execution_count": null,
   "metadata": {},
   "outputs": [],
   "source": [
    "corpus_name = \"<add you name>\""
   ]
  },
  {
   "cell_type": "markdown",
   "metadata": {},
   "source": [
    "### 3.3 Place your training data into \"in/corpus.txt\", must be UTF-8 encoded!"
   ]
  },
  {
   "cell_type": "code",
   "execution_count": null,
   "metadata": {},
   "outputs": [],
   "source": [
    "corpus_path = notebook_path + os.sep + 'in' + os.sep + 'corpus.txt'\n",
    "\n",
    "with open(corpus_path, 'rb') as corpus_file:  \n",
    "    speech_to_text.add_corpus(\n",
    "        customization_id,\n",
    "        corpus_name,\n",
    "        corpus_file,\n",
    "        allow_overwrite=True\n",
    "    )"
   ]
  },
  {
   "cell_type": "markdown",
   "metadata": {},
   "source": [
    "## 4. Add individual custom words to the model directly\n",
    "\n",
    "Although adding corpora is the recommended means of adding words to a custom language model, you can also add individual custom words to the model directly. The service adds the custom words to the custom model just as it does OOV words that it discovers from corpora.\n",
    "\n",
    "If you have only one or a few words to add to a model, using corpora to add the words might not be practical or even viable. The simplest approach is to add a word with only its spelling. But you can also provide multiple pronunciations for the word and indicate how the word is to be displayed.\n",
    "\n",
    "This link provides information about working with corpora and custom words\n",
    "https://cloud.ibm.com/docs/speech-to-text?topic=speech-to-text-corporaWords"
   ]
  },
  {
   "cell_type": "markdown",
   "metadata": {},
   "source": [
    "### 4.1 List the \"custom-words\" within your language model"
   ]
  },
  {
   "cell_type": "code",
   "execution_count": null,
   "metadata": {},
   "outputs": [],
   "source": [
    "words = speech_to_text.list_words(customization_id).get_result()\n",
    "print(json.dumps(words, indent=2))"
   ]
  },
  {
   "cell_type": "markdown",
   "metadata": {},
   "source": [
    "### 4.1 Add \"custom-words\" directly into your language model\n",
    "\n",
    "\n",
    "The words resource includes all words that you add from corpora, from grammars, or directly. Its purpose is to define the pronunciation and spelling of words that are not already present in the service's base vocabulary. The definitions tell the service how to transcribe these out-of-vocabulary (OOV) words. The words resource contains the following information about each OOV word. The service creates the definitions for words that are extracted from corpora and grammars. You specify the characteristics for words that you add or modify directly.\n",
    "\n",
    "**word**: The spelling of the word as found in a corpus or grammar or as added by you.\n",
    "\n",
    "**sounds_like**: The pronunciation of the word. For words extracted from corpora and grammars, the value represents how the service believes that the word is pronounced based on its language rules. In many cases, the pronunciation reflects the spelling of the word field.\n",
    "\n",
    "**display_as**: The spelling of the word that the service uses in transcripts. The field indicates how the word is to be displayed. In most cases, the spelling matches the value of the word field.\n",
    "\n",
    "**source**: How the word was added to the words resource. If the service extracted the word from a corpus or grammar, the field lists the name of that resource. Because the service can encounter the same word in multiple resources, the field can list multiple corpus or grammar names. The field includes the string user if you add or modify the word directly.\n",
    "\n",
    "***Replace the NCAA example below with your custom words***"
   ]
  },
  {
   "cell_type": "code",
   "execution_count": null,
   "metadata": {},
   "outputs": [],
   "source": [
    "speech_to_text.add_word(\n",
    "    (customization_id),\n",
    "    'NCAA',\n",
    "    sounds_like=['N. C. A. A.', 'N. C. double A.'],\n",
    "    display_as='NCAA'\n",
    ")"
   ]
  },
  {
   "cell_type": "markdown",
   "metadata": {},
   "source": [
    "\n",
    "\n",
    "### 4.2 Gets information about a custom word from a custom language \n",
    "\n",
    "Replace the NCAA example below with your custom words\n"
   ]
  },
  {
   "cell_type": "code",
   "execution_count": null,
   "metadata": {},
   "outputs": [],
   "source": [
    "word = speech_to_text.get_word(\n",
    "    (customization_id),\n",
    "    'NCAA'\n",
    ").get_result()\n",
    "print(json.dumps(word, indent=2))"
   ]
  },
  {
   "cell_type": "markdown",
   "metadata": {},
   "source": [
    "### 4.3 Delete a custom word from a custom language \n",
    "\n",
    "Delete a custom word from a custom language model. You can remove any word that you added to the custom model's words resource via any means. However, if the word also exists in the service's base vocabulary, the service removes only the custom pronunciation for the word; the word remains in the base vocabulary. Removing a custom word does not affect the custom model until you train the model with the Train a custom language model method\n",
    "\n",
    "***Replace the NCAA example below with your custom words***"
   ]
  },
  {
   "cell_type": "code",
   "execution_count": null,
   "metadata": {},
   "outputs": [],
   "source": [
    "speech_to_text.delete_word(\n",
    "    (customization_id),\n",
    "    'NCAA'\n",
    ")"
   ]
  },
  {
   "cell_type": "markdown",
   "metadata": {},
   "source": [
    "## 5. Add \"grammar\" to the model directly\n",
    "\n",
    "A grammar uses a formal language specification to define a set of production rules for transcribing strings. The rules specify how to form valid strings from the language's alphabet. When you apply a grammar to speech recognition, the service can return only one or more of the phrases that are generated by the grammar. For example, when you need to recognize specific words or phrases, such as yes or no, individual letters or numbers, or a list of names, using grammars can be more effective than examining alternative words and transcripts. Moreover, by limiting the search space for valid strings, the service can deliver results faster and more accurately.\n",
    "\n",
    "This link the information about adding a grammar to the custom language model https://cloud.ibm.com/docs/speech-to-text?topic=speech-to-text-grammarAdd#addGrammar"
   ]
  },
  {
   "cell_type": "markdown",
   "metadata": {},
   "source": [
    "### 5.1 List the \"grammar\" within your language model"
   ]
  },
  {
   "cell_type": "code",
   "execution_count": null,
   "metadata": {},
   "outputs": [],
   "source": [
    "grammars = speech_to_text.list_grammars(customization_id).get_result()\n",
    "print(json.dumps(grammars, indent=2))"
   ]
  },
  {
   "cell_type": "markdown",
   "metadata": {},
   "source": [
    "### 5.2 Provide a name for the grammar in the cell below\n",
    "\n",
    "The name of the new grammar for the custom language model. Use a localized name that matches the language of the custom model and reflects the contents of the grammar.\n",
    "\n",
    "The name of the new grammar for the custom language model. Use a localized name that matches the language of the custom model and reflects the contents of the grammar.\n",
    "\n",
    "a) Include a maximum of 128 characters in the name.\n",
    "<br>\n",
    "b) Do not use characters that need to be URL-encoded. For example, do not use spaces, slashes, backslashes, colons, ampersands, double quotes, plus signs, equals signs, questions marks, and so on in the name. (The service does not prevent the use of these characters. But because they must be URL-encoded wherever used, their use is strongly discouraged.)\n",
    "<br>\n",
    "c)Do not use the name of an existing grammar or corpus that is already defined for the custom model.\n",
    "<br>\n",
    "d)Do not use the name user, which is reserved by the service to denote custom words that are added or modified by the user.\n",
    "<br>\n",
    "e)Do not use the name base_lm or default_lm. Both names are reserved for future use by the service.\n",
    "\n"
   ]
  },
  {
   "cell_type": "code",
   "execution_count": null,
   "metadata": {},
   "outputs": [],
   "source": [
    "grammar_name = \"<add you name>\""
   ]
  },
  {
   "cell_type": "markdown",
   "metadata": {},
   "source": [
    "### 5.3 Add grammar directly into your language model\n",
    "To add a grammar that has the same name as an existing grammar, set the ***allow_overwrite parameter to true***\n",
    "\n",
    "- Place your grammar file in the \"in\" directory\n",
    "- Add your grammar_name to the cell below"
   ]
  },
  {
   "cell_type": "code",
   "execution_count": null,
   "metadata": {},
   "outputs": [],
   "source": [
    "grammar_file = \"<add your name grammar file>\"\n",
    "grammar_path = notebook_path + os.sep + 'in' + os.sep + grammar_file\n",
    "with open(grammar_path, 'rb') as grammar_file:\n",
    "    speech_to_text.add_grammar(\n",
    "        customization_id,\n",
    "        \"<grammar_name>\",\n",
    "        grammar_file,\n",
    "        'application/srgs', #for augmented backus naur form\n",
    "        allow_overwrite=True\n",
    "    )"
   ]
  },
  {
   "cell_type": "markdown",
   "metadata": {},
   "source": [
    "### 5.4 Gets information about the grammar from a custom language \n",
    "\n",
    "Gets information about a grammar from a custom language model. The information includes the total number of out-of-vocabulary (OOV) words, name, and status of the grammar. "
   ]
  },
  {
   "cell_type": "code",
   "execution_count": null,
   "metadata": {},
   "outputs": [],
   "source": [
    "grammar = speech_to_text.get_grammar(\n",
    "    (customization_id),\n",
    "    (grammar_name),\n",
    ").get_result()\n",
    "print(json.dumps(grammar, indent=2))"
   ]
  },
  {
   "cell_type": "markdown",
   "metadata": {},
   "source": [
    "### 5.5 Deletes grammar from a custom language \n",
    "\n",
    "Deletes an existing grammar from a custom language model. The service removes any out-of-vocabulary (OOV) words associated with the grammar from the custom model's words resource unless they were also added by another resource or they were modified in some way with the Add custom words or Add a custom word method. Removing a grammar does not affect the custom model until you train the model with the Train a custom language model method. You must use credentials for the instance of the service that owns a model to delete its grammar."
   ]
  },
  {
   "cell_type": "code",
   "execution_count": null,
   "metadata": {},
   "outputs": [],
   "source": [
    "speech_to_text.delete_grammar(\n",
    "   (customization_id),\n",
    "    (grammar_name),\n",
    ")"
   ]
  },
  {
   "cell_type": "markdown",
   "metadata": {},
   "source": [
    "## 6. Train your Watson STT custom language\n",
    "\n",
    "Initiates the training of a custom language model with new resources such as corpora, grammars, and custom words. After adding, modifying, or deleting resources for a custom language model, use this method to begin the actual training of the model on the latest data. You can specify whether the custom language model is to be trained with all words from its words resource or only with words that were added or modified by the user directly. You must use credentials for the instance of the service that owns a model to train it.\n",
    "\n",
    "The training method is asynchronous. It can take on the order of minutes to complete depending on the amount of data on which the service is being trained and the current load on the service. "
   ]
  },
  {
   "cell_type": "code",
   "execution_count": null,
   "metadata": {},
   "outputs": [],
   "source": [
    "speech_to_text.train_language_model(customization_id)"
   ]
  },
  {
   "cell_type": "markdown",
   "metadata": {},
   "source": [
    "### 6.1 Retrieves the status of the custom model training. The status must be \"available\" to proceed"
   ]
  },
  {
   "cell_type": "code",
   "execution_count": null,
   "metadata": {},
   "outputs": [],
   "source": [
    "language_models = speech_to_text.list_language_models().get_result()\n",
    "print(json.dumps(language_models, indent=2))"
   ]
  },
  {
   "cell_type": "markdown",
   "metadata": {},
   "source": [
    "## 7. Test your WER using the custom model of Watson STT\n",
    "\n",
    "Place your test sentances within the \"reference.txt\" file located in the \"in\" directory. The order of the test sentances need to match the order of the audio files you will input below."
   ]
  },
  {
   "cell_type": "code",
   "execution_count": null,
   "metadata": {},
   "outputs": [],
   "source": [
    "with open (notebook_path + os.sep + 'in' + os.sep + 'reference.txt', 'r', encoding='utf8') as file:\n",
    "    references = file.readlines()\n",
    "    \n",
    "references = [x.rstrip() for x in references]\n",
    "references = [x.strip(\"?\") for x in references]\n",
    "print(references)"
   ]
  },
  {
   "cell_type": "markdown",
   "metadata": {},
   "source": [
    "### 7.1 Add audio to the \"audio\" folder within the \"in\" directory\n",
    "\n",
    "(The files must be in the same order as the reference.txt file) \n",
    "\n",
    "##### Why customization weight are key to your results\n",
    "\n",
    "A custom language model is a combination of the custom model and the base model that it customizes. You can tell the service how much weight to give to words from the custom language model compared to words from the base model for speech recognition. The weight that is assigned to a custom model is referred to as its ***customization weight***. You specify the relative weight for a custom language model as a double between 0.0 to 1.0. By default, each custom language model has a weight of 0.3. The default weight yields the best performance in the general case. It allows both OOV words from the custom model and words from the base vocabulary to be recognized.\n",
    "\n",
    "This link provides more informtion about \"customization weight\" https://cloud.ibm.com/docs/speech-to-text?topic=speech-to-text-languageUse#weight\n",
    "\n",
    "***Please note: Add your 'acoustic_cutomization_id' if you have completed your \"acoustic training\" more information about acoustic training can be found at this link :https://cloud.ibm.com/docs/speech-to-text?topic=speech-to-text-acoustic ***\n",
    "\n",
    "- add audio format, see information in the link about formats - https://cloud.ibm.com/docs/speech-to-text?topic=speech-to-text-audio-formats#formats\n",
    "- add language model type \n",
    "- add grammar name\n"
   ]
  },
  {
   "cell_type": "code",
   "execution_count": null,
   "metadata": {},
   "outputs": [],
   "source": [
    "test_set_path = notebook_path + os.sep + 'in'+ os.sep + 'audios'\n",
    "\n",
    "files = []\n",
    "results = []\n",
    "\n",
    "for audio_file_name in os.listdir(test_set_path):\n",
    "    if audio_file_name.endswith(\".wav\"):\n",
    "        files.append(test_set_path + os.sep + audio_file_name)\n",
    "        \n",
    "files.sort()        \n",
    "for file in files:\n",
    "    print(\"Processing: \" + file)\n",
    "    with open(file, 'rb') as audio_file:\n",
    "        speech_recognition_results = speech_to_text.recognize(\n",
    "            audio=audio_file\n",
    "            ,content_type='audio/<add audio format>'\n",
    "            ,model= '<add language model type>'\n",
    "            ,customization_id= customization_id\n",
    "            ,customization_weight=0.3\n",
    "            ,max_alternatives=3\n",
    "            ,grammar_name= '<add grammar name>'\n",
    "            # ,acoustic_customization_id=\"<acoustic_cutomization_id>\"\n",
    "        ).get_result()\n",
    "    \n",
    "    results.append(speech_recognition_results.get(\"results\")[0].get(\"alternatives\")[0].get('transcript'))\n",
    "    print(json.dumps(speech_recognition_results.get(\"results\"), indent=2))\n"
   ]
  },
  {
   "cell_type": "markdown",
   "metadata": {},
   "source": [
    "### 7.2 Your results are printed below\n"
   ]
  },
  {
   "cell_type": "code",
   "execution_count": null,
   "metadata": {},
   "outputs": [],
   "source": [
    "print(results)"
   ]
  },
  {
   "cell_type": "markdown",
   "metadata": {},
   "source": [
    "### 7.3 Execute the cell below to export your results to .CSV\n",
    "\n",
    "The CSV file can be found in the \"out\" directory\n"
   ]
  },
  {
   "cell_type": "code",
   "execution_count": null,
   "metadata": {},
   "outputs": [],
   "source": [
    "wers = pd.DataFrame(columns=['Input File', 'Reference', 'Transcript', 'WER'])\n",
    "for i in range(len(references)):\n",
    "    error = wer(references[i], results[i])\n",
    "    wers = wers.append(\n",
    "        {'Input File' : files[i].split(os.sep)[-1], \n",
    "         'Reference' : references[i], \n",
    "         'Transcript' : results[i], \n",
    "         'WER' : error}, ignore_index=True)\n",
    "    \n",
    "wers.head()\n",
    "wer_output_path = notebook_path + os.sep + 'out' + os.sep + 'wer-' + str(time.time()) + '.csv'\n",
    "export_csv = wers.to_csv (wer_output_path, index = None, header=True, encoding=\"utf-8\")\n",
    "print(\"Word Error Rates are saved as .csv in the out-folder!\\n\")\n",
    "print(\"Overall Error: \" + str(wer(references, results)))"
   ]
  },
  {
   "cell_type": "markdown",
   "metadata": {},
   "source": [
    "## 8. Danger zone - delete your custom model "
   ]
  },
  {
   "cell_type": "code",
   "execution_count": null,
   "metadata": {},
   "outputs": [],
   "source": [
    "customizations = language_models[\"customizations\"]\n",
    "for customization in customizations:\n",
    "\tid = customization[\"customization_id\"]\n",
    "\tprint(\"deleting customization:\", id)\n",
    "\tspeech_to_text.delete_language_model(id)"
   ]
  }
 ],
 "metadata": {
  "kernelspec": {
   "display_name": "Python 3",
   "language": "python",
   "name": "python3"
  },
  "language_info": {
   "codemirror_mode": {
    "name": "ipython",
    "version": 3
   },
   "file_extension": ".py",
   "mimetype": "text/x-python",
   "name": "python",
   "nbconvert_exporter": "python",
   "pygments_lexer": "ipython3",
   "version": "3.7.1"
  }
 },
 "nbformat": 4,
 "nbformat_minor": 2
}
